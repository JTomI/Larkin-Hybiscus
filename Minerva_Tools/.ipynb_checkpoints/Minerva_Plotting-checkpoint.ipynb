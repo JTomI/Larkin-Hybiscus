{
 "cells": [
  {
   "cell_type": "code",
   "execution_count": 1,
   "metadata": {},
   "outputs": [],
   "source": [
    "import h5py\n",
    "import matplotlib\n",
    "from matplotlib import pyplot as plt\n",
    "import matplotlib.patches as patches\n",
    "from mpl_toolkits.axes_grid1 import make_axes_locatable\n",
    "import numpy as np\n",
    "import os\n",
    "import glob\n",
    "from datetime import datetime\n",
    "from itertools import chain\n",
    "import imageio\n",
    "from tqdm import tqdm\n",
    "from PIL import Image\n",
    "from scipy.signal import argrelextrema, find_peaks\n",
    "from scipy.optimize import curve_fit\n",
    "from scipy.interpolate import approximate_taylor_polynomial\n",
    "\n",
    "# for x in os.environ:\n",
    "#     print((x, os.getenv(x)))\n",
    "from MinervaManager import MinervaManager\n",
    "from MinervaPlot import imp_plot\n",
    "from MinervaPlot import normalize_by_channel as norm\n",
    "from MinervaPlot import remove_outliers as rmout\n",
    "\n",
    "from IPython.display import clear_output\n",
    "import time\n",
    "\n",
    "%matplotlib inline\n",
    "\n",
    "def video_save(manager=None,myframes=None,savename=None,fps=10):\n",
    "    print(' -- Saving plots as .gif animation -- ')\n",
    "    plotdir = os.path.join(manager.logdir,'plots')\n",
    "    if(not os.path.exists(plotdir)):\n",
    "        os.mkdir(plotdir)\n",
    "    savename=os.path.join(plotdir,savename+'.gif')\n",
    "    imageio.mimsave(savename, myframes, fps=fps)\n",
    "    print(' --  Animation saved as {}  -- '.format(savename))"
   ]
  },
  {
   "cell_type": "code",
   "execution_count": 2,
   "metadata": {},
   "outputs": [
    {
     "name": "stdout",
     "output_type": "stream",
     "text": [
      "Logfile Directory:  C:\\Users\\jtincan\\Desktop\\F0386_Analysis\\F0386_minerva\\impedance/\n",
      " -- (1) Logfiles of *impedance* datatype -- \n",
      "\n",
      "Filename:  F0386_imp_p1.h5\n",
      "# images:  18\n"
     ]
    }
   ],
   "source": [
    "impdir = r\"C:\\Users\\jtincan\\Desktop\\F0386_Analysis\\F0386_minerva\\impedance/\"\n",
    "# phdir = r\"C:/Users/jtincan/Desktop/F0362_Analysis/pH/\"\n",
    "# ectdir1 = r\"C:/Users/jtincan/Desktop/F0362_Analysis/ECT_pre/\"\n",
    "# ectdir2 = r\"C:/Users/jtincan/Desktop/F0362_Analysis/ECT_mid/\"\n",
    "\n",
    "iM = MinervaManager(dtype='imp',logdir=impdir);\n",
    "# pM = MinervaManager(dtype='ph',logdir=phdir)\n",
    "# eM1 = MinervaManager(dtype='ect',logdir=ectdir1)\n",
    "# eM2 = MinervaManager(dtype='ect',logdir=ectdir2)"
   ]
  },
  {
   "cell_type": "code",
   "execution_count": 3,
   "metadata": {},
   "outputs": [
    {
     "name": "stderr",
     "output_type": "stream",
     "text": [
      " --  Importing impedance data from F0386_imp_p1.h5  -- : 100%|████████████████████████| 18/18 [00:00<00:00, 236.10it/s]\n",
      "...Generating all impedance images from logfile F0386_imp_p1.h5:  18%|███▏              | 3/17 [00:00<00:00, 17.92it/s]"
     ]
    },
    {
     "name": "stdout",
     "output_type": "stream",
     "text": [
      "Completed import of 18 impedance images from (1) logfiles\n",
      "Total import size:  1056 Bytes\n"
     ]
    },
    {
     "name": "stderr",
     "output_type": "stream",
     "text": [
      "...Generating all impedance images from logfile F0386_imp_p1.h5: 100%|█████████████████| 17/17 [00:01<00:00, 14.68it/s]\n"
     ]
    },
    {
     "name": "stdout",
     "output_type": "stream",
     "text": [
      " -- Saving plots as .gif animation -- \n",
      " --  Animation saved as C:\\Users\\jtincan\\Desktop\\F0386_Analysis\\F0386_minerva\\impedance/plots\\F0386_imp_p1.gif  -- \n"
     ]
    }
   ],
   "source": [
    "normrows = [0,511]\n",
    "vrange = [-1,1]\n",
    "imp_plot(manager=iM,vrange=vrange,normrows=normrows,verbose=False);"
   ]
  }
 ],
 "metadata": {
  "kernelspec": {
   "display_name": "Python 3",
   "language": "python",
   "name": "python3"
  },
  "language_info": {
   "codemirror_mode": {
    "name": "ipython",
    "version": 3
   },
   "file_extension": ".py",
   "mimetype": "text/x-python",
   "name": "python",
   "nbconvert_exporter": "python",
   "pygments_lexer": "ipython3",
   "version": "3.6.5"
  }
 },
 "nbformat": 4,
 "nbformat_minor": 2
}
