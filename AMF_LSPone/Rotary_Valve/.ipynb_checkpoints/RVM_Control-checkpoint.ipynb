{
 "cells": [
  {
   "cell_type": "code",
   "execution_count": 1,
   "metadata": {},
   "outputs": [],
   "source": [
    "from RVM_tools import RVM\n",
    "import time"
   ]
  },
  {
   "cell_type": "code",
   "execution_count": 2,
   "metadata": {
    "scrolled": false
   },
   "outputs": [
    {
     "name": "stdout",
     "output_type": "stream",
     "text": [
      "RVM initializing\n",
      "RVM connected on COM3\n",
      "Homing complete.\n",
      "0\n",
      "Move complete. Current valve = 1\n",
      "1\n",
      "Move complete. Current valve = 6\n",
      "6\n",
      "Connection reset on port COM3\n"
     ]
    }
   ],
   "source": [
    "rvm1 = RVM()\n",
    "rvm1.rehome()\n",
    "print(rvm1.current_valve)"
   ]
  },
  {
   "cell_type": "code",
   "execution_count": null,
   "metadata": {},
   "outputs": [],
   "source": []
  }
 ],
 "metadata": {
  "kernelspec": {
   "display_name": "Python 3",
   "language": "python",
   "name": "python3"
  },
  "language_info": {
   "codemirror_mode": {
    "name": "ipython",
    "version": 3
   },
   "file_extension": ".py",
   "mimetype": "text/x-python",
   "name": "python",
   "nbconvert_exporter": "python",
   "pygments_lexer": "ipython3",
   "version": "3.6.5"
  }
 },
 "nbformat": 4,
 "nbformat_minor": 2
}
