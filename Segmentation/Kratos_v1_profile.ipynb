{
 "cells": [
  {
   "cell_type": "code",
   "execution_count": null,
   "metadata": {},
   "outputs": [],
   "source": [
    "import os\n",
    "cwd = os.getcwd()\n",
    "datadir =r'G:\\My Drive\\HyBISCUS_JTI_Data\\SU8_Photolithography_resources\\uFluidic Profiles'\n",
    "# reqdir=r'\\Documents\\GitHub\\Measurement\\Segmentation'\n",
    "# os.chdir(reqdir)\n",
    "# #Check for/install dependencies from github requisites list\n",
    "# os.popen('pip install -r requirements.txt').readlines()\n",
    "# os.chdir(datadir)\n",
    "\n",
    "import numpy as np\n",
    "from ipywidgets import interact, widgets\n",
    "from IPython.display import display\n",
    "from scipy import ndimage as ndi\n",
    "from skimage import (exposure, feature, filters, io, measure, morphology, restoration, segmentation, transform,util)\n",
    "import skimage as ski\n",
    "import pandas as pd\n",
    "from tqdm import tqdm\n",
    "import multiprocessing as mp\n",
    "from joblib import Parallel, delayed\n",
    "import matplotlib\n",
    "import matplotlib.pyplot as plt\n",
    "# %%capture\n",
    "# %matplotlib inline\n",
    "matplotlib.rcParams['figure.figsize'] = 24*np.array([.404, 1.518])\n",
    "\n",
    "imratio=.404/1.518"
   ]
  }
 ],
 "metadata": {
  "kernelspec": {
   "display_name": "Python 3",
   "language": "python",
   "name": "python3"
  },
  "language_info": {
   "codemirror_mode": {
    "name": "ipython",
    "version": 3
   },
   "file_extension": ".py",
   "mimetype": "text/x-python",
   "name": "python",
   "nbconvert_exporter": "python",
   "pygments_lexer": "ipython3",
   "version": "3.6.5"
  }
 },
 "nbformat": 4,
 "nbformat_minor": 2
}
