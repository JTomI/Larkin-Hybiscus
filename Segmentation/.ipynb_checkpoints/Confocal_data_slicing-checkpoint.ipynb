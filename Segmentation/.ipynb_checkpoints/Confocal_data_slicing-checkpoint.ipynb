{
 "cells": [
  {
   "cell_type": "code",
   "execution_count": 85,
   "metadata": {},
   "outputs": [],
   "source": [
    "import os\n",
    "cwd = os.getcwd()\n",
    "datadir =r'G:\\My Drive\\HyBISCUS_JTI_Data\\ECT_Training\\ECt_Training_Dataset_04172022\\Full_CMOS_04172022'\n",
    "# reqdir=r'\\Documents\\GitHub\\Measurement\\Segmentation'\n",
    "# os.chdir(reqdir)\n",
    "# #Check for/install dependencies from github requisites list\n",
    "# os.popen('pip install -r requirements.txt').readlines()\n",
    "# os.chdir(datadir)\n",
    "\n",
    "import numpy as np\n",
    "from ipywidgets import interact, widgets\n",
    "from IPython.display import display\n",
    "from scipy import ndimage as ndi\n",
    "from skimage import (exposure, feature, filters, io, measure, morphology, restoration, segmentation, transform,util)\n",
    "import skimage as ski\n",
    "import pandas as pd\n",
    "from tqdm import tqdm\n",
    "import multiprocessing as mp\n",
    "from joblib import Parallel, delayed\n",
    "import matplotlib\n",
    "import matplotlib.pyplot as plt\n",
    "# %%capture\n",
    "# %matplotlib inline\n",
    "matplotlib.rcParams['figure.figsize'] = 24*np.array([.404, 1.518])\n",
    "\n",
    "imratio=.404/1.518"
   ]
  },
  {
   "cell_type": "code",
   "execution_count": 86,
   "metadata": {},
   "outputs": [],
   "source": [
    "def improcess(image_list=None,index=None,quality=.25,compress=True):\n",
    "    imname=r'\\tiff_series\\ECT_Training_04172022_Region 2_Merged_z{}.tif'.format(str(index))\n",
    "    image=io.imread(datadir+imname)\n",
    "    image=ski.exposure.rescale_intensity(image)\n",
    "    if compress:\n",
    "        image=ski.transform.rescale(image, quality, anti_aliasing=False)\n",
    "    image_list.append(image)\n",
    "    return image_list\n",
    "\n",
    "def slider(index=None):\n",
    "    io.imshow(image_list[index])\n",
    "\n",
    "def yzslicer(array=None,x=1200,y=1200):\n",
    "    # z , x , y , rbg\n",
    "    print('Original Array shape ( z , x , y , rbg): ',array.shape)\n",
    "    slice2D=array[int(100*20/150):int(100*140/150),y:y+int(200/1.518),x,:]\n",
    "    print('New array shape: ',slice2D.shape)\n",
    "    return slice2D"
   ]
  },
  {
   "cell_type": "markdown",
   "metadata": {},
   "source": [
    "# Downsampled image analysis"
   ]
  },
  {
   "cell_type": "code",
   "execution_count": 87,
   "metadata": {},
   "outputs": [],
   "source": [
    "# im_index=[\"%.2d\" % i for i in range(100)]\n",
    "# image_list=[]\n",
    "# for i in tqdm(im_index, desc = 'Reading Frames'):\n",
    "#     improcess(image_list=image_list,index=i,quality=imratio)\n",
    "# imarray = np.array(image_list)"
   ]
  },
  {
   "cell_type": "code",
   "execution_count": 109,
   "metadata": {
    "scrolled": false
   },
   "outputs": [
    {
     "name": "stdout",
     "output_type": "stream",
     "text": [
      "Original Array shape ( z , x , y , rbg):  (100, 3128, 1904, 1)\n",
      "New array shape:  (80, 131, 1)\n"
     ]
    },
    {
     "data": {
      "image/png": "[encoded data removed]",
      "text/plain": [
       "<Figure size 698.112x2623.1 with 2 Axes>"
      ]
     },
     "metadata": {
      "needs_background": "light"
     },
     "output_type": "display_data"
    }
   ],
   "source": [
    "#Input the xy coordinate from full resolution image here.\n",
    "x=6261;y=5668;\n",
    "slice2D = yzslicer(imarray,x=int(x*imratio),y=int((y-495//2)*imratio))\n",
    "plt.yticks(80/6*np.arange(6), list(range(0,120,20)))  # Set text labels.\n",
    "plt.xticks(131/10*np.arange(10), list(range(0,200,20)))  # Set text labels.\n",
    "plt.imshow(slice2D,cmap='magma')\n",
    "plt.ylabel('Scan Depth [um]')\n",
    "plt.xlabel('Slice Width [um]')\n",
    "plt.title('Normalized 120um x 200um (y,z) slice for ECT training')\n",
    "plt.colorbar(fraction=0.029, pad=0.04)\n",
    "plt.show()"
   ]
  },
  {
   "cell_type": "code",
   "execution_count": 108,
   "metadata": {},
   "outputs": [],
   "source": [
    "io.imsave(r'C:\\Users\\joeyi\\Desktop\\yz_slices\\slice_{}_{}.tif'.format(x,y),slice2D)"
   ]
  },
  {
   "cell_type": "markdown",
   "metadata": {},
   "source": [
    "# Full size image analysis"
   ]
  },
  {
   "cell_type": "code",
   "execution_count": 58,
   "metadata": {},
   "outputs": [],
   "source": [
    "# im_index=[\"%.2d\" % i for i in range(100)]\n",
    "# high_res_image_list=[]\n",
    "# for i in tqdm(im_index, desc = 'Reading Frames'):\n",
    "#     improcess(image_list=high_res_image_list,index=i,compress=False)\n",
    "# hires_array=np.array(high_res_image_list)"
   ]
  },
  {
   "cell_type": "code",
   "execution_count": 4,
   "metadata": {
    "scrolled": true
   },
   "outputs": [],
   "source": [
    "# hires_slice=yzslicer(hires_array,x=6294,y=4676-495//2)\n",
    "# plt.imshow(hires_slice)"
   ]
  },
  {
   "cell_type": "markdown",
   "metadata": {},
   "source": [
    "# Max projection of data"
   ]
  },
  {
   "cell_type": "code",
   "execution_count": 86,
   "metadata": {},
   "outputs": [],
   "source": [
    "# max_proj = np.max(hires_array, axis=0)\n",
    "# plt.imshow(max_proj)"
   ]
  },
  {
   "cell_type": "code",
   "execution_count": 85,
   "metadata": {},
   "outputs": [],
   "source": [
    "# io.imsave(r'C:\\Users\\joeyi\\Desktop\\slicemap.png',max_proj)"
   ]
  },
  {
   "cell_type": "code",
   "execution_count": null,
   "metadata": {},
   "outputs": [],
   "source": []
  },
  {
   "cell_type": "code",
   "execution_count": null,
   "metadata": {},
   "outputs": [],
   "source": []
  },
  {
   "cell_type": "code",
   "execution_count": null,
   "metadata": {},
   "outputs": [],
   "source": []
  },
  {
   "cell_type": "code",
   "execution_count": null,
   "metadata": {},
   "outputs": [],
   "source": []
  }
 ],
 "metadata": {
  "kernelspec": {
   "display_name": "Python 3",
   "language": "python",
   "name": "python3"
  },
  "language_info": {
   "codemirror_mode": {
    "name": "ipython",
    "version": 3
   },
   "file_extension": ".py",
   "mimetype": "text/x-python",
   "name": "python",
   "nbconvert_exporter": "python",
   "pygments_lexer": "ipython3",
   "version": "3.6.4"
  }
 },
 "nbformat": 4,
 "nbformat_minor": 2
}
